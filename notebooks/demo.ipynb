{
  "cells": [
    {
      "cell_type": "markdown",
      "metadata": {},
      "source": [
        "# Retrieval-Augmented Transformer Demo\n",
        "\n",
        "This notebook demonstrates the RAG system with interactive examples.\n",
        "\n",
        "## Setup\n"
      ]
    },
    {
      "cell_type": "code",
      "execution_count": null,
      "metadata": {},
      "outputs": [],
      "source": [
        "import sys\n",
        "import os\n",
        "sys.path.append('..')\n",
        "\n",
        "import config\n",
        "from model.base_model import BaseQAModel\n",
        "from model.rag_model import RAGModel\n",
        "from retrieval.hybrid_retriever import HybridRetriever\n",
        "import torch\n",
        "\n",
        "print(\"Setup complete!\")\n",
        "print(f\"Device: {'cuda' if torch.cuda.is_available() else 'cpu'}\")\n"
      ]
    },
    {
      "cell_type": "markdown",
      "metadata": {},
      "source": [
        "## Load Models\n"
      ]
    },
    {
      "cell_type": "code",
      "execution_count": null,
      "metadata": {},
      "outputs": [],
      "source": [
        "# Load retriever\n",
        "print(\"Loading retriever...\")\n",
        "retriever = HybridRetriever()\n",
        "index_path = os.path.join(config.RETRIEVAL_DIR, 'hybrid_index')\n",
        "retriever.load_index(index_path)\n",
        "\n",
        "# Load baseline model\n",
        "print(\"\\nLoading baseline model...\")\n",
        "device = 'cuda' if torch.cuda.is_available() else 'cpu'\n",
        "baseline_model = BaseQAModel(device=device)\n",
        "baseline_model.load_from_checkpoint(config.BASELINE_OUTPUT_DIR)\n",
        "\n",
        "# Load RAG model\n",
        "print(\"\\nLoading RAG model...\")\n",
        "rag_model = RAGModel(retriever=retriever, device=device)\n",
        "rag_model.load_from_checkpoint(config.RAG_OUTPUT_DIR)\n",
        "\n",
        "print(\"\\nAll models loaded!\")\n"
      ]
    },
    {
      "cell_type": "markdown",
      "metadata": {},
      "source": [
        "## Interactive Demo\n",
        "\n",
        "Try asking questions and compare the models!\n"
      ]
    },
    {
      "cell_type": "code",
      "execution_count": null,
      "metadata": {},
      "outputs": [],
      "source": [
        "def ask_question(question):\n",
        "    \"\"\"Ask a question to both models and compare.\"\"\"\n",
        "    print(f\"Question: {question}\\n\")\n",
        "    print(\"=\"*80)\n",
        "    \n",
        "    # Baseline model\n",
        "    print(\"\\n🔵 BASELINE MODEL (No Retrieval):\")\n",
        "    baseline_answer = baseline_model.generate_answer(question)\n",
        "    print(f\"Answer: {baseline_answer}\")\n",
        "    \n",
        "    # RAG model\n",
        "    print(\"\\n🟢 RAG MODEL (With Retrieval):\")\n",
        "    rag_answer, retrieved_passages = rag_model.generate_answer(question, use_retrieval=True)\n",
        "    print(f\"Answer: {rag_answer}\")\n",
        "    \n",
        "    if retrieved_passages:\n",
        "        print(\"\\n📚 Retrieved Passages:\")\n",
        "        for i, (passage, score) in enumerate(retrieved_passages, 1):\n",
        "            print(f\"\\n  Passage {i} (score={score:.3f}):\")\n",
        "            print(f\"  {passage['text'][:200]}...\")\n",
        "    \n",
        "    print(\"\\n\" + \"=\"*80)\n",
        "\n",
        "# Example questions\n",
        "questions = [\n",
        "    \"Who was the first person to walk on the moon?\",\n",
        "    \"What is the capital of France?\",\n",
        "    \"When did World War II end?\",\n",
        "]\n",
        "\n",
        "for q in questions:\n",
        "    ask_question(q)\n",
        "    print(\"\\n\")\n"
      ]
    },
    {
      "cell_type": "markdown",
      "metadata": {},
      "source": [
        "## Custom Question\n",
        "\n",
        "Try your own question!\n"
      ]
    },
    {
      "cell_type": "code",
      "execution_count": null,
      "metadata": {},
      "outputs": [],
      "source": [
        "# Try your own question here\n",
        "custom_question = \"What is quantum computing?\"\n",
        "ask_question(custom_question)\n"
      ]
    }
  ],
  "metadata": {
    "language_info": {
      "name": "python"
    }
  },
  "nbformat": 4,
  "nbformat_minor": 2
}
